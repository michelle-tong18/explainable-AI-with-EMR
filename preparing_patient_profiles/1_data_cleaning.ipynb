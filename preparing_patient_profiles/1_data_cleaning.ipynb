{
 "cells": [
  {
   "cell_type": "code",
   "execution_count": null,
   "id": "f58715fc-7ea4-4005-be9d-3db3a79267c2",
   "metadata": {
    "tags": []
   },
   "outputs": [],
   "source": [
    "import pandas as pd\n",
    "\n",
    "import os\n",
    "import pyrootutils\n",
    "root = pyrootutils.setup_root(\n",
    "    search_from=os.path.abspath(''),\n",
    "    indicator=[\".git\"],\n",
    "    pythonpath=True, # add root directory to the PYTHONPATH (helps with imports)\n",
    "    dotenv=True, # load environment variables from .env if exists in root directory\n",
    ")\n",
    "\n",
    "from utils.file_management.config_loader import load_yaml, process_config_values\n",
    "from utils.file_management.file_manager import FileManager\n",
    "from utils.query_utils.extractor import Extractor\n",
    "\n",
    "from utils.model_utils.data_utils import convert_categorical_to_binary"
   ]
  },
  {
   "cell_type": "code",
   "execution_count": null,
   "id": "045e5027-700e-45cd-af9b-a17a8fd4fa61",
   "metadata": {
    "tags": []
   },
   "outputs": [],
   "source": [
    "# Load yaml file with dataset information\n",
    "config_path = str(root) + '/src/config/LBP_cohort.yaml'\n",
    "config = process_config_values(load_yaml(config_path))\n",
    "\n",
    "# Load paths to data\n",
    "PlumsFiles = FileManager(config.get('file_directory'))\n",
    "\n",
    "#Set print counts flag\n",
    "check_query_flag = True       #axilluary checks to see if query makes sense\n",
    "PlumsExtractor = Extractor(num_results_flag=True, display_results_flag=True)\n",
    "\n",
    "# Identify Patients\n",
    "patientdurablekey_list = pd.read_csv(PlumsFiles.get_datapath('patientdurablekey_csv'))\n",
    "patientdurablekey_list = list(patientdurablekey_list['patientdurablekey'])\n",
    "print(len(patientdurablekey_list))\n",
    "\n",
    "# Identify Imaging ID (accessions)\n",
    "accessionnumber_list = pd.read_csv(PlumsFiles.get_datapath('accessionnumber_csv'))\n",
    "accessionnumber_list = list(accessionnumber_list['accessionnumber'])\n",
    "print(len(accessionnumber_list))"
   ]
  },
  {
   "cell_type": "markdown",
   "id": "8f61b0e0-55cf-4b2b-9228-e8519f740def",
   "metadata": {
    "tags": []
   },
   "source": [
    "# Data Prep"
   ]
  },
  {
   "cell_type": "markdown",
   "id": "c335cc00",
   "metadata": {},
   "source": [
    "### Reference dates"
   ]
  },
  {
   "cell_type": "code",
   "execution_count": null,
   "id": "8ad0f3a2-e4eb-4bb2-9265-a492721bce62",
   "metadata": {
    "tags": []
   },
   "outputs": [],
   "source": [
    "imaging_query = f\"\"\"\n",
    "/*\n",
    "Description: Reference dataframe with dates of first MRI\n",
    "*/\n",
    "\n",
    "WITH min_dates AS (\n",
    "    SELECT \n",
    "        patientdurablekey,\n",
    "        MIN(examstartdatekey) AS first_examstartdatekey\n",
    "    FROM read_parquet('{PlumsFiles.get_datapath('imagingfact_parquet')}')\n",
    "    WHERE accessionnumber IN {tuple(accessionnumber_list)}\n",
    "    GROUP BY patientdurablekey\n",
    ")\n",
    "\n",
    "SELECT DISTINCT\n",
    "    a.patientdurablekey, \n",
    "    a.accessionnumber,  \n",
    "    a.examstartdatekey as first_examstartdatekey,\n",
    "    a.examstartdatekey//10000 as first_examyear,\n",
    "FROM read_parquet('{PlumsFiles.get_datapath('imagingfact_parquet')}') as a\n",
    "JOIN min_dates as b\n",
    "ON a.patientdurablekey = b.patientdurablekey\n",
    "AND a.examstartdatekey = b.first_examstartdatekey\n",
    "\n",
    "WHERE a.accessionnumber IN {tuple(accessionnumber_list)}\n",
    "\n",
    "ORDER BY\n",
    "    a.examstartdatekey,\n",
    "    a.patientdurablekey\n",
    "\"\"\"\n",
    "\n",
    "tmp_img_df = PlumsExtractor.run_query(imaging_query, runtime_flag=True)\n",
    "tmp_img_df.head()"
   ]
  },
  {
   "cell_type": "markdown",
   "id": "20e4de4c-2de7-466c-a66a-ceb4c3a5a1a2",
   "metadata": {
    "tags": []
   },
   "source": [
    "## Outcome labels"
   ]
  },
  {
   "cell_type": "markdown",
   "id": "feb4e834-aaa7-4a4f-bfec-1158c144bc3e",
   "metadata": {
    "jp-MarkdownHeadingCollapsed": true,
    "tags": []
   },
   "source": [
    "### Each patient has multiple outcomes (one-hot-encoding) \n",
    "Does the patient have an NSAID prescription, opioid prescription, or physical therapy? (one-to-many)"
   ]
  },
  {
   "cell_type": "code",
   "execution_count": null,
   "id": "bf5d2aa9-2cdc-4225-9662-f47523d34102",
   "metadata": {
    "tags": []
   },
   "outputs": [],
   "source": [
    "# Intervention Labels\n",
    "interventionQuery = f'''\n",
    "/*\n",
    "Description: Does the patient have an NSAID prescription, opioid prescription, or physical therapy? (one-to-many)\n",
    "*/\n",
    "\n",
    "SELECT DISTINCT\n",
    "    a.patientdurablekey,\n",
    "    a.medicationtype AS interventiontype\n",
    "FROM \n",
    "  read_parquet('{PlumsFiles.get_datapath('medicationorderfact_parquet')}') as a\n",
    "LEFT JOIN tmp_img_df as b\n",
    "ON a.patientdurablekey = b.patientdurablekey\n",
    "WHERE \n",
    "  a.patientdurablekey IN {tuple(patientdurablekey_list)}\n",
    "  AND a.startdatekey BETWEEN b.first_examstartdatekey AND b.first_examstartdatekey + 10000\n",
    "\n",
    "UNION\n",
    "\n",
    "SELECT \n",
    "  a.patientdurablekey,\n",
    "  CASE WHEN UPPER(a.proceduretype) LIKE '%PHYSICAL THERAPY%' THEN 'PHYSICAL THERAPY'\n",
    "  END AS interventiontype\n",
    "FROM \n",
    "  read_parquet('{PlumsFiles.get_datapath('referraleventfact_parquet')}') as a\n",
    "LEFT JOIN tmp_img_df as b\n",
    "ON a.patientdurablekey = b.patientdurablekey\n",
    "WHERE \n",
    "  a.patientdurablekey IN {tuple(patientdurablekey_list)}\n",
    "  AND a.startdatekey BETWEEN b.first_examstartdatekey AND b.first_examstartdatekey + 10000\n",
    "\n",
    "ORDER BY\n",
    "  a.patientdurablekey\n",
    "'''\n",
    "\n",
    "# Run query and update relevant keys\n",
    "results_df_pd = PlumsExtractor.run_query(interventionQuery,runtime_flag=True,df_type='pandas')\n",
    "\n",
    "# Save table\n",
    "PlumsFiles.save_df_to_parquet(results_df_pd,PlumsFiles.get_datapath('medicationorderfact_analysis_parquet'))\n",
    "PlumsFiles.save_df_to_csv(results_df_pd,PlumsFiles.get_datapath('medicationorderfact_analysis_csv'))\n",
    "\n",
    "#Check whether query makes sense\n",
    "if check_query_flag==True:\n",
    "    PlumsExtractor.col_to_list(results_df_pd, 'patientdurablekey')\n",
    "    print('MedicationOrderFact -  total medication names: ')\n",
    "    PlumsExtractor.col_to_list(results_df_pd, 'interventiontype')\n",
    "    \n",
    "results_df_pd.head()"
   ]
  },
  {
   "cell_type": "code",
   "execution_count": null,
   "id": "e32ac56c-57b1-4d83-810d-24dbe4731d59",
   "metadata": {
    "tags": []
   },
   "outputs": [],
   "source": [
    "df_outcomes_multiple_categories = results_df_pd.copy()\n",
    "\n",
    "count_key = 'patientdurablekey'\n",
    "group_keys = ['interventiontype']\n",
    "\n",
    "df_binary, feature_columns = convert_categorical_to_binary(df_outcomes_multiple_categories, group_keys, count_key)\n",
    "df_binary = df_binary.groupby(count_key)[feature_columns].sum().reset_index()\n",
    "\n",
    "# Summarize the label categories and total matches\n",
    "df_outcomes_one_hot = df_binary.copy()\n",
    "\n",
    "# Save table\n",
    "PlumsFiles.save_df_to_parquet(df_outcomes_one_hot,PlumsFiles.get_datapath('interventiontype_multilabel_analysis_parquet'))\n",
    "PlumsFiles.save_df_to_csv(df_outcomes_one_hot,PlumsFiles.get_datapath('interventiontype_multilabel_analysis_csv'))\n",
    "\n",
    "df_outcomes_one_hot"
   ]
  },
  {
   "cell_type": "markdown",
   "id": "0c127e84-fa43-446f-b54b-1beb79dd6ff0",
   "metadata": {
    "jp-MarkdownHeadingCollapsed": true,
    "tags": []
   },
   "source": [
    "### Each patient has one outcome (ordinal) \n",
    "What is the strongest class of medication prescribed? No, NSAID, or opioid prescription? (one-to-one)\n"
   ]
  },
  {
   "cell_type": "code",
   "execution_count": null,
   "id": "09b5d545-1053-44a0-b2fb-512967421669",
   "metadata": {
    "tags": []
   },
   "outputs": [],
   "source": [
    "# Intervention Labels\n",
    "interventionQuery = f'''\n",
    "/*\n",
    "Description: What is the strongest class of medication prescribed? No, NSAID, or opioid prescription? (one-to-one)\n",
    "*/\n",
    "\n",
    "SELECT DISTINCT\n",
    "    a.patientdurablekey,\n",
    "    CASE WHEN LOWER(a.medicationtype) LIKE '%step 1%' THEN 1\n",
    "        WHEN LOWER(a.medicationtype) LIKE '%step 2%' THEN 2\n",
    "        WHEN LOWER(a.medicationtype) LIKE '%step 3%' THEN 3\n",
    "    ELSE 0\n",
    "    END AS interventiontype\n",
    "FROM \n",
    "  read_parquet('{PlumsFiles.get_datapath('medicationorderfact_parquet')}') as a\n",
    "LEFT JOIN tmp_img_df as b\n",
    "ON a.patientdurablekey = b.patientdurablekey\n",
    "WHERE \n",
    "  a.patientdurablekey IN {tuple(patientdurablekey_list)}\n",
    "  AND a.startdatekey BETWEEN b.first_examstartdatekey AND b.first_examstartdatekey + 10000\n",
    "  \n",
    "ORDER BY\n",
    "  a.patientdurablekey\n",
    "'''\n",
    "\n",
    "# Run query and update relevant keys\n",
    "results_df_pd = PlumsExtractor.run_query(interventionQuery,runtime_flag=True,df_type='pandas')\n",
    "\n",
    "#Check whether query makes sense\n",
    "if check_query_flag==True:\n",
    "    PlumsExtractor.col_to_list(results_df_pd, 'patientdurablekey')\n",
    "    \n",
    "results_df_pd.head()"
   ]
  },
  {
   "cell_type": "code",
   "execution_count": null,
   "id": "b44995b3-17f6-49ae-b92b-d7f53cff1b3e",
   "metadata": {
    "tags": []
   },
   "outputs": [],
   "source": [
    "# Group by 'key' and select the maximum value from the 'label' column for each key\n",
    "df_single_outcomes = results_df_pd.groupby('patientdurablekey', as_index=False)['interventiontype'].max()\n",
    "\n",
    "# Identify patients without any interventions\n",
    "missing_patients = list(set(patientdurablekey_list) - set(df_single_outcomes['patientdurablekey']))\n",
    "print(len(missing_patients))\n",
    "# Create a new DataFrame with the new keys and label set to 0\n",
    "df_missing = pd.DataFrame({'patientdurablekey': missing_patients, 'interventiontype': 0})\n",
    "# Append the new rows to the existing DataFrame\n",
    "df_single_outcomes = pd.concat([df_single_outcomes, df_missing], ignore_index=True)\n",
    "\n",
    "# Save table\n",
    "PlumsFiles.save_df_to_parquet(df_single_outcomes,PlumsFiles.get_datapath('interventiontype_singlelabel_analysis_parquet'))\n",
    "PlumsFiles.save_df_to_csv(df_single_outcomes,PlumsFiles.get_datapath('interventiontype_singlelabel_analysis_csv'))\n",
    "\n",
    "df_single_outcomes"
   ]
  },
  {
   "cell_type": "markdown",
   "id": "23f7ef9d-251c-40b8-82a8-ce110618d369",
   "metadata": {
    "tags": []
   },
   "source": [
    "## Predictors"
   ]
  },
  {
   "cell_type": "markdown",
   "id": "b5d797f1-202d-4ad6-b385-eedea436e0a4",
   "metadata": {
    "jp-MarkdownHeadingCollapsed": true,
    "tags": []
   },
   "source": [
    "### Predictors demographics (one-to-one)"
   ]
  },
  {
   "cell_type": "code",
   "execution_count": null,
   "id": "f06bf0a2-58ef-4a58-9733-74799b4a7c32",
   "metadata": {
    "tags": []
   },
   "outputs": [],
   "source": [
    "# Intervention Labels\n",
    "dataQuery = f'''\n",
    "/*\n",
    "Create Date: All patient demographics (pre-cleaning)\n",
    "*/\n",
    "\n",
    "SELECT DISTINCT\n",
    "    *\n",
    "FROM \n",
    "  read_parquet('{PlumsFiles.get_datapath('patdurabledim_parquet')}')\n",
    "WHERE \n",
    "  patientdurablekey IN {tuple(patientdurablekey_list)}\n",
    "ORDER BY\n",
    "  patientdurablekey\n",
    "'''\n",
    "\n",
    "# Run query and update relevant keys\n",
    "results_df_pd = PlumsExtractor.run_query(dataQuery,runtime_flag=True,df_type='pandas')\n",
    "\n",
    "results_df_pd.head()"
   ]
  },
  {
   "cell_type": "code",
   "execution_count": null,
   "id": "09fa7079-f2ac-4e9c-9bc5-1e77efb0e2a2",
   "metadata": {
    "tags": []
   },
   "outputs": [],
   "source": [
    "# Distribution of unique values within a category\n",
    "results_df_pd.value_counts('maritalstatus')"
   ]
  },
  {
   "cell_type": "code",
   "execution_count": null,
   "id": "647eb322-404a-4960-a1d1-43b501f25624",
   "metadata": {
    "tags": []
   },
   "outputs": [],
   "source": [
    "# Intervention Labels\n",
    "dataQuery = f'''\n",
    "/*\n",
    "Create Date: Patient demographics mapped to meaningful categories (cleaned)\n",
    "*/\n",
    "\n",
    "SELECT DISTINCT\n",
    "    a.patientdurablekey,\n",
    "    sex,\n",
    "    b.ageatfirstimaging,\n",
    "    c.first_examyear as yearatfirstimaging,\n",
    "    CASE WHEN preferredlanguage LIKE 'English' THEN 'english'\n",
    "        ELSE 'Non-english'\n",
    "        END AS preferredlanguage,\n",
    "    CASE WHEN ucsfderivedraceethnicity_x LIKE 'White' THEN 'white'\n",
    "        WHEN ucsfderivedraceethnicity_x LIKE 'Asian' THEN 'asian'\n",
    "        WHEN ucsfderivedraceethnicity_x LIKE 'Latinx' THEN 'latinx'\n",
    "        WHEN ucsfderivedraceethnicity_x LIKE 'Black or African American' THEN 'black or african american'\n",
    "        WHEN ucsfderivedraceethnicity_x LIKE 'Unknown/Declined' THEN 'unknown'\n",
    "        ELSE 'other' -- captures other, multi-race, southwest asian, north african, pacific islander, native american\n",
    "        END AS raceethnicity,\n",
    "    CASE WHEN smokingstatus LIKE 'Every Day' THEN 'smoker'\n",
    "        WHEN smokingstatus LIKE 'Heavy Smoker' THEN 'smoker'\n",
    "        WHEN smokingstatus LIKE 'Light Smoker' THEN 'smoker'\n",
    "        WHEN smokingstatus LIKE 'Some Days' THEN 'smoker'\n",
    "        WHEN smokingstatus LIKE 'Smoker, Current Status Unknown' THEN 'smoker'\n",
    "        WHEN smokingstatus LIKE 'Former' THEN 'former'\n",
    "        WHEN smokingstatus LIKE 'Passive Smoke Exposure - Never Smoker' THEN 'never'\n",
    "        WHEN smokingstatus LIKE 'Never' THEN 'never'\n",
    "        ELSE 'unknown'\n",
    "        END AS smokingstatus,\n",
    "    CASE WHEN religion LIKE 'Unknown' THEN 'unknown'\n",
    "        WHEN religion LIKE '*Unspecified' THEN 'unknown'\n",
    "        WHEN religion LIKE 'none' THEN 'none'\n",
    "        WHEN religion LIKE 'No Faith' THEN 'none'\n",
    "        WHEN religion LIKE 'Non-Denominational' THEN 'none'\n",
    "        WHEN religion LIKE 'Spiritual & Not Religious' THEN 'none'\n",
    "        ELSE 'religious' \n",
    "        END AS religion,\n",
    "    CASE WHEN maritalstatus LIKE 'Married' THEN 'partnered'\n",
    "        WHEN maritalstatus LIKE 'Significant Other' THEN 'partnered'\n",
    "        WHEN maritalstatus LIKE 'Registered Domestic Partner' THEN 'partnered'\n",
    "        WHEN maritalstatus LIKE '' THEN 'partnered'\n",
    "        WHEN maritalstatus LIKE 'Single' THEN 'single/separated'\n",
    "        WHEN maritalstatus LIKE 'Divorced' THEN 'single/separated'\n",
    "        WHEN maritalstatus LIKE 'Widowed' THEN 'single/separated'\n",
    "        WHEN maritalstatus LIKE 'Legally Separated' THEN 'single/separated'\n",
    "        WHEN maritalstatus LIKE 'RDP-Widowed' THEN 'single/separated' \n",
    "            -- can use Reg Dom Partner filling status for 2 years after change in status for benefits \n",
    "        WHEN maritalstatus LIKE 'RDP-Dissolved' THEN 'single/separated' \n",
    "            -- can use Reg Dom Partner filling status for 2 years after change in status for benefits \n",
    "        ELSE 'unknown'\n",
    "        END AS socialsupport\n",
    "\n",
    "FROM \n",
    "  read_parquet('{PlumsFiles.get_datapath('patdurabledim_parquet')}') as a\n",
    "INNER JOIN (\n",
    "  SELECT DISTINCT\n",
    "      patientdurablekey,\n",
    "      MIN(ageatimaging) as ageatfirstimaging,\n",
    "  FROM \n",
    "    read_parquet('{PlumsFiles.get_datapath('patdurabledim_parquet')}')\n",
    "  GROUP BY \n",
    "    patientdurablekey   \n",
    "  ) as b\n",
    "ON a.patientdurablekey = b.patientdurablekey\n",
    "INNER JOIN(\n",
    "    SELECT DISTINCT\n",
    "        patientdurablekey,\n",
    "        first_examyear,\n",
    "    FROM \n",
    "        tmp_img_df\n",
    "    ) as c\n",
    "ON a.patientdurablekey = c.patientdurablekey\n",
    "\n",
    "WHERE \n",
    "  a.patientdurablekey IN {tuple(patientdurablekey_list)}\n",
    "  AND LOWER(sex) IN {('female','male')} \n",
    "\n",
    "\n",
    "ORDER BY\n",
    "  a.patientdurablekey\n",
    "'''\n",
    "\n",
    "# Run query and update relevant keys\n",
    "results_df_pd = PlumsExtractor.run_query(dataQuery,runtime_flag=True,df_type='pandas')\n",
    "\n",
    "#Check whether query makes sense\n",
    "if check_query_flag==True:\n",
    "    PlumsExtractor.col_to_list(results_df_pd, 'patientdurablekey')\n",
    "    \n",
    "df_patient_info = results_df_pd.copy()\n",
    "\n",
    "# Save table\n",
    "PlumsFiles.save_df_to_parquet(results_df_pd,PlumsFiles.get_datapath('patdurabledim_analysis_parquet'))\n",
    "PlumsFiles.save_df_to_csv(results_df_pd,PlumsFiles.get_datapath('patdurabledim_analysis_csv'))\n",
    "\n",
    "results_df_pd.head()"
   ]
  },
  {
   "cell_type": "code",
   "execution_count": null,
   "id": "829c5432-631f-400d-a25f-c68abc8b9755",
   "metadata": {
    "tags": []
   },
   "outputs": [],
   "source": [
    "df_patient_info.value_counts('religion')\n",
    "df_patient_info.value_counts('religion')/len(df_patient_info)"
   ]
  },
  {
   "cell_type": "code",
   "execution_count": null,
   "id": "25c22b50-95c0-4e2b-925f-904ea57f087e",
   "metadata": {
    "tags": []
   },
   "outputs": [],
   "source": [
    "import matplotlib.pyplot as plt\n",
    "\n",
    "plt.hist(df_patient_info['ageatfirstimaging'])\n",
    "plt.show()\n",
    "\n",
    "plt.hist(df_patient_info['yearatfirstimaging'])\n",
    "plt.show()"
   ]
  },
  {
   "cell_type": "markdown",
   "id": "95082135-86c5-491b-a7c6-ead40ad51a2f",
   "metadata": {
    "jp-MarkdownHeadingCollapsed": true,
    "tags": []
   },
   "source": [
    "### Predictors exam start date (one-to-one)"
   ]
  },
  {
   "cell_type": "code",
   "execution_count": null,
   "id": "be0d42c7-35bd-48f9-a4d8-1f2ba1c880cc",
   "metadata": {
    "tags": []
   },
   "outputs": [],
   "source": [
    "# Intervention Labels\n",
    "interventionQuery = f'''\n",
    "/*\n",
    "Create Date: Patient interventions\n",
    "*/\n",
    "\n",
    "SELECT DISTINCT\n",
    "    a.patientdurablekey,\n",
    "    --a.startdatekey,\n",
    "    --b.first_examstartdatekey,\n",
    "    a.medicationtype AS interventiontype\n",
    "FROM \n",
    "  read_parquet('{PlumsFiles.get_datapath('medicationorderfact_parquet')}') as a\n",
    "LEFT JOIN tmp_img_df as b\n",
    "ON a.patientdurablekey = b.patientdurablekey\n",
    "WHERE \n",
    "  a.patientdurablekey IN {tuple(patientdurablekey_list)}\n",
    "  \n",
    "ORDER BY\n",
    "  a.patientdurablekey\n",
    "'''\n",
    "\n",
    "# Run query and update relevant keys\n",
    "results_df_pd = PlumsExtractor.run_query(interventionQuery,runtime_flag=True,df_type='pandas')\n",
    "\n",
    "# Save table\n",
    "PlumsFiles.save_df_to_parquet(results_df_pd,PlumsFiles.get_datapath('medicationorderfact_analysis_parquet'))\n",
    "PlumsFiles.save_df_to_csv(results_df_pd,PlumsFiles.get_datapath('medicationorderfact_analysis_csv'))\n",
    "\n",
    "#Check whether query makes sense\n",
    "if check_query_flag==True:\n",
    "    PlumsExtractor.col_to_list(results_df_pd, 'patientdurablekey')\n",
    "    print('MedicationOrderFact -  total medication names: ')\n",
    "    PlumsExtractor.col_to_list(results_df_pd, 'interventiontype')\n",
    "    \n",
    "results_df_pd.head()"
   ]
  },
  {
   "cell_type": "code",
   "execution_count": null,
   "id": "e8f5d775-da4b-4954-b9fa-8a36a80a865a",
   "metadata": {},
   "outputs": [],
   "source": []
  },
  {
   "cell_type": "code",
   "execution_count": null,
   "id": "86d896f7-3dca-4358-8577-1851a5e329d9",
   "metadata": {},
   "outputs": [],
   "source": []
  },
  {
   "cell_type": "markdown",
   "id": "d6b036c7-b6c0-4614-87ba-f739df548efd",
   "metadata": {
    "jp-MarkdownHeadingCollapsed": true,
    "tags": []
   },
   "source": [
    "### Predictors billing (one-to-one)"
   ]
  },
  {
   "cell_type": "code",
   "execution_count": null,
   "id": "c7aa8f13-629f-4527-b001-52a7bf4a2c7c",
   "metadata": {
    "tags": []
   },
   "outputs": [],
   "source": [
    "# Intervention Labels\n",
    "dataQuery = f'''\n",
    "/*\n",
    "Create Date: Patient billing information for insurance (pre-cleaned)\n",
    "*/\n",
    "\n",
    "SELECT DISTINCT\n",
    "    *\n",
    "FROM \n",
    "  read_parquet('{PlumsFiles.get_datapath('billingaccountfact_parquet')}')\n",
    "WHERE \n",
    "  patientdurablekey IN {tuple(patientdurablekey_list)}\n",
    "ORDER BY\n",
    "  patientdurablekey\n",
    "'''\n",
    "\n",
    "# Run query and update relevant keys\n",
    "results_df_pd = PlumsExtractor.run_query(dataQuery,runtime_flag=True,df_type='pandas')\n",
    "\n",
    "#Check whether query makes sense\n",
    "if check_query_flag==True:\n",
    "    PlumsExtractor.col_to_list(results_df_pd, 'patientdurablekey')\n",
    "    \n",
    "results_df_pd.head()"
   ]
  },
  {
   "cell_type": "code",
   "execution_count": null,
   "id": "db0f8e8c-935b-49b9-b212-a7e32674d31d",
   "metadata": {
    "tags": []
   },
   "outputs": [],
   "source": [
    "# Distribution of unique values within a category\n",
    "results_df_pd.value_counts('fc1_plan')"
   ]
  },
  {
   "cell_type": "code",
   "execution_count": null,
   "id": "ea1e19ef-7f6d-4672-85df-0834c2258ec2",
   "metadata": {
    "tags": []
   },
   "outputs": [],
   "source": [
    "# Intervention Labels\n",
    "dataQuery = f'''\n",
    "/*\n",
    "Create Date: Patient billing information for insurance mapped to meaningful categories (cleaned)\n",
    "*/\n",
    "\n",
    "SELECT DISTINCT\n",
    "    patientdurablekey,\n",
    "    encounterkey,\n",
    "    CASE WHEN fc1_plan LIKE 'PPO' THEN 'PPO' -- preferred provider organizations\n",
    "        WHEN fc1_plan LIKE '%Medicare%' THEN 'medicare' -- older using social security\n",
    "        WHEN fc1_plan LIKE 'Managed Medi-Cal' THEN 'medicaid' -- low-income\n",
    "        WHEN fc1_plan LIKE 'Medi-Cal Standard' THEN 'medicaid' -- low-income\n",
    "        WHEN fc1_plan LIKE 'Medicaid Out-of-State ' THEN 'medicaid' -- low-income\n",
    "        WHEN fc1_plan LIKE 'HMO' THEN 'HMO/POS/EPO'\n",
    "        WHEN fc1_plan LIKE 'IPA' THEN 'HMO/POS/EPO'\n",
    "        WHEN fc1_plan LIKE 'POS' THEN 'HMO/POS/EPO' -- between PPO and HMO, closer to HMO\n",
    "        WHEN fc1_plan LIKE 'EPO' THEN 'HMO/POS/EPO' -- between PPO and HMO, closer to HMO\n",
    "        ELSE 'other' -- Worker's Comp, TriCare, GOV, Indemnity(sued), MIA\n",
    "        END AS primaryinsurance,\n",
    "    CASE WHEN fc1_plan LIKE 'PPO' THEN 5 -- preferred provider organizations\n",
    "        WHEN fc1_plan LIKE '%Medicare%' THEN 4 -- older using social security\n",
    "        WHEN fc1_plan LIKE 'Managed Medi-Cal' THEN 3 -- low-income\n",
    "        WHEN fc1_plan LIKE 'Medi-Cal Standard' THEN 3 -- low-income\n",
    "        WHEN fc1_plan LIKE 'Medicaid Out-of-State ' THEN 3 -- low-income\n",
    "        WHEN fc1_plan LIKE 'HMO' THEN 2\n",
    "        WHEN fc1_plan LIKE 'IPA' THEN 2\n",
    "        WHEN fc1_plan LIKE 'POS' THEN 2 -- between PPO and HMO, closer to HMO\n",
    "        WHEN fc1_plan LIKE 'EPO' THEN 2 -- between PPO and HMO, closer to HMO\n",
    "        ELSE 1 -- Worker's Comp, TriCare, GOV, Indemnity(sued), MIA\n",
    "        END AS primaryinsurancekey,\n",
    "FROM \n",
    "  read_parquet('{PlumsFiles.get_datapath('billingaccountfact_parquet')}')\n",
    "WHERE \n",
    "  patientdurablekey IN {tuple(patientdurablekey_list)}\n",
    "ORDER BY\n",
    "  patientdurablekey\n",
    "'''\n",
    "\n",
    "# Run query and update relevant keys\n",
    "results_df_pd = PlumsExtractor.run_query(dataQuery,runtime_flag=True,df_type='pandas')\n",
    "\n",
    "#Check whether query makes sense\n",
    "if check_query_flag==True:\n",
    "    PlumsExtractor.col_to_list(results_df_pd, 'patientdurablekey')\n",
    "    \n",
    "# Save table\n",
    "PlumsFiles.save_df_to_parquet(results_df_pd,PlumsFiles.get_datapath('billingaccountfact_analysis_parquet'))\n",
    "PlumsFiles.save_df_to_csv(results_df_pd,PlumsFiles.get_datapath('billingaccountfact_analysis_csv'))\n",
    "\n",
    "results_df_pd.head()\n"
   ]
  },
  {
   "cell_type": "code",
   "execution_count": null,
   "id": "2709b0ca-c218-44a7-a51d-ca6e676f11a5",
   "metadata": {
    "tags": []
   },
   "outputs": [],
   "source": [
    "df_patient_info = results_df_pd.copy()\n",
    "df_patient_info.value_counts('primaryinsurance')\n",
    "df_patient_info.value_counts('primaryinsurance')/len(df_patient_info)"
   ]
  },
  {
   "cell_type": "markdown",
   "id": "cb6a8c74-c872-4ca3-b0c6-72d29d738a15",
   "metadata": {
    "tags": []
   },
   "source": [
    "### Predictors derived from diagnoses (one-to-one)\n",
    "Acute/Chronic LBP, Sciatica, Disc Pathology"
   ]
  },
  {
   "cell_type": "code",
   "execution_count": null,
   "id": "c61f2d20-80f8-4f47-8fd3-04b7301d265c",
   "metadata": {
    "tags": []
   },
   "outputs": [],
   "source": [
    "# Intervention Labels\n",
    "inputQuery = f'''\n",
    "/*\n",
    "Create Date: Patient demographics mapped to meaningful categories (cleaned)\n",
    "*/\n",
    "\n",
    "SELECT DISTINCT\n",
    "  a.patientdurablekey,\n",
    "  --diagnosisname,\n",
    "  \n",
    "  -- START DEMOGRAPHICS/PSYCHOSOCIAL\n",
    "  CASE WHEN LOWER(a.diagnosisname) LIKE '%anxiety%' THEN 1\n",
    "      ELSE 0\n",
    "      END AS 'anxiety',\n",
    "  CASE WHEN LOWER(a.diagnosisname) LIKE '%depression%' THEN 1\n",
    "      ELSE 0\n",
    "      END AS 'depression',\n",
    "  CASE WHEN (Anxiety==1 OR Depression==1) THEN 1\n",
    "    ELSE 0\n",
    "    END AS 'negativepsychstate',\n",
    "  CASE WHEN (LOWER(a.diagnosisname) LIKE '%obes%' AND LOWER(a.diagnosisname) NOT LIKE '%nonobes%') THEN 1\n",
    "      ELSE 0\n",
    "      END AS 'obesity',\n",
    "  -- END DEMOGRAPHICS/PSYCHOSOCIAL\n",
    "  \n",
    "  -- START SYMPTOMS/DIAGNOSES\n",
    "  CASE WHEN (LOWER(a.diagnosisname) LIKE '%back%pain%' AND LOWER(a.diagnosisname) LIKE '%acute%') THEN 'acute'\n",
    "      WHEN (LOWER(a.diagnosisname) LIKE '%back%pain%') AND (LOWER(a.diagnosisname) LIKE '%chronic%') \n",
    "          AND (LOWER(a.diagnosisname) NOT LIKE '%unspecif%chronic%') THEN 'chronic'\n",
    "      ELSE 'unspecified'\n",
    "      END AS 'lbpduration',\n",
    "  CASE WHEN (LOWER(a.diagnosisname) LIKE '%sciatic%' AND LOWER(a.diagnosisname) NOT LIKE '%without%') THEN 1\n",
    "      ELSE 0\n",
    "      END AS 'sciatica',\n",
    "  CASE WHEN ((LOWER(a.diagnosisname) LIKE '%facet%' OR LOWER(diagnosisname) LIKE '%joint%')\n",
    "          AND LOWER(a.diagnosisname) LIKE '%arthropathy%') THEN 1\n",
    "      ELSE 0\n",
    "      END AS 'facetjointarthropathy',\n",
    "  CASE WHEN LOWER(a.diagnosisname) LIKE '%scoliosis%' THEN 1\n",
    "      ELSE 0\n",
    "      END AS 'scoliosis',\n",
    "  CASE WHEN ((LOWER(a.diagnosisname) LIKE '%disc %' \n",
    "      OR LOWER(a.diagnosisname) LIKE '%disc'\n",
    "      OR LOWER(a.diagnosisname) LIKE '%disc,%'\n",
    "      OR LOWER(a.diagnosisname) LIKE '%discogenic%'\n",
    "      OR LOWER(a.diagnosisname) LIKE '%discectomy%'\n",
    "      ) AND LOWER(a.diagnosisname) NOT LIKE '%optic%') THEN 1 --discomfort, discharge, discussion, discrepancy)\n",
    "      ELSE 0\n",
    "      END AS 'discpathology',\n",
    "  CASE WHEN (LOWER(a.diagnosisname) LIKE '%stenosis%' AND (LOWER(a.diagnosisname) LIKE '%spin%' \n",
    "          OR LOWER(a.diagnosisname) LIKE '%lumb%' OR LOWER(a.diagnosisname) LIKE '%foramina%'\n",
    "          OR LOWER(a.diagnosisname) LIKE '%thoracic%')) THEN 1\n",
    "      ELSE 0\n",
    "      END AS 'spinalstenosis',\n",
    "  CASE WHEN (LOWER(a.diagnosisname) LIKE '%sacroiliac%' \n",
    "      OR LOWER(a.diagnosisname) LIKE '% si %'\n",
    "      OR LOWER(a.diagnosisname) LIKE 'si %') THEN 1\n",
    "      ELSE 0\n",
    "      END AS 'sacroiliacjoint',\n",
    "  CASE WHEN (LOWER(a.diagnosisname) LIKE '%diabet%' AND LOWER(a.diagnosisname) NOT LIKE '%history%'\n",
    "       AND LOWER(a.diagnosisname) NOT LIKE '%screening%' AND LOWER(a.diagnosisname) NOT LIKE '%antidiabet%' \n",
    "       AND LOWER(a.diagnosisname) NOT LIKE '%pre-diabet%') THEN 1 -- diabetes, diabetic\n",
    "       ELSE 0\n",
    "       END AS 'diabetes',\n",
    "  CASE WHEN (LOWER(a.diagnosisname) LIKE '%back%pain%' AND LOWER(a.diagnosisname) LIKE '%right%') THEN 1 -- 'unilateral'\n",
    "      WHEN ((LOWER(a.diagnosisname) LIKE '%back%pain%') AND (LOWER(a.diagnosisname) LIKE '%left%')) THEN 1 -- 'unilateral' \n",
    "      WHEN ((LOWER(a.diagnosisname) LIKE '%back%pain%') AND (LOWER(a.diagnosisname) LIKE '%bilateral%')) THEN 3 --'bilateral' \n",
    "      ELSE 0 --'unspecified'\n",
    "      END AS 'lbplaterality',\n",
    "  CASE WHEN ((LOWER(a.diagnosisname) LIKE '%radicul%' AND LOWER(a.diagnosisname) NOT LIKE '%without%') OR\n",
    "      (LOWER(a.diagnosisname) LIKE '%radiat%' AND \n",
    "      (LOWER(a.diagnosisname) LIKE '%back%pain%' OR LOWER(a.diagnosisname) LIKE '%lbp%'))) THEN 1 -- radiating, radiation\n",
    "      ELSE 0\n",
    "      END AS 'radiculopathy',\n",
    "  CASE WHEN (LOWER(a.diagnosisname) LIKE '%numbness%' OR LOWER(a.diagnosisname) LIKE '%tingling%') THEN 1 \n",
    "      ELSE 0\n",
    "      END AS 'numbnesstingling',\n",
    "  CASE WHEN (LOWER(a.diagnosisname) LIKE '%osteoarthritis%'\n",
    "      OR LOWER(a.diagnosisname) LIKE '%osteoarthrosis%') THEN 1\n",
    "      ELSE 0\n",
    "      END AS 'osteoarthritisososteoarthritis',\n",
    "  CASE WHEN (LOWER(a.diagnosisname) LIKE '%osteoporosis%'\n",
    "      OR LOWER(a.diagnosisname) LIKE '%osteopenia%') THEN 1\n",
    "      ELSE 0\n",
    "      END AS 'osteopeniaosteoporosis',\n",
    "  CASE WHEN (LOWER(diagnosisname) LIKE '%bladder%' OR \n",
    "      (LOWER(diagnosisname) LIKE '%bladder%' \n",
    "      AND (LOWER(diagnosisname) LIKE '%dysfunction%'\n",
    "      OR LOWER(diagnosisname) LIKE '%disorder%'\n",
    "      OR LOWER(diagnosisname) LIKE '%irrita%')) ) THEN 1 -- iritable, irritation\n",
    "      ELSE 0\n",
    "      END AS 'bowelbladder',\n",
    "  CASE WHEN ((LOWER(diagnosisname))  LIKE '%fibromyalgia%' OR LOWER(diagnosisname) LIKE '%fibrosis%') THEN 1\n",
    "      ELSE 0\n",
    "      END AS 'fibromyalgiafibrosis'\n",
    "  -- END SYMPTOMS/DIAGNOSES\n",
    "FROM \n",
    "  read_parquet('{PlumsFiles.get_datapath('diagnosiseventfact_parquet')}') as a\n",
    "LEFT JOIN tmp_img_df as b\n",
    "ON a.patientdurablekey = b.patientdurablekey\n",
    "WHERE \n",
    "  a.patientdurablekey IN {tuple(patientdurablekey_list)}\n",
    "  AND a.startdatekey < b.first_examstartdatekey + 100\n",
    "  -- first_examstartdatekey + 100 adds 1 month to first_examstartdatekey assuming the format is YYYYMMDD\n",
    "\n",
    "ORDER BY\n",
    "  a.patientdurablekey\n",
    "'''\n",
    "\n",
    "# Run query and update relevant keys\n",
    "results_df_pd = PlumsExtractor.run_query(inputQuery,runtime_flag=True,df_type='pandas')\n",
    "\n",
    "#Check whether query makes sense\n",
    "if check_query_flag==True:\n",
    "    PlumsExtractor.col_to_list(results_df_pd, 'patientdurablekey')\n",
    "    \n",
    "# Save table\n",
    "PlumsFiles.save_df_to_parquet(results_df_pd,PlumsFiles.get_datapath('diagnosiseventfact_analysis_parquet'))\n",
    "PlumsFiles.save_df_to_csv(results_df_pd,PlumsFiles.get_datapath('diagnosiseventfact_analysis_csv'))\n",
    "\n",
    "patientdurablekey_study_list = results_df_pd['patientdurablekey']\n",
    "\n",
    "results_df_pd.head()"
   ]
  },
  {
   "cell_type": "code",
   "execution_count": null,
   "id": "090d215c-e223-4ade-8f31-c8246442d9a4",
   "metadata": {
    "tags": []
   },
   "outputs": [],
   "source": [
    "# Distribution of unique values within a category\n",
    "results_df_pd.value_counts('negativepsychstate')"
   ]
  },
  {
   "cell_type": "code",
   "execution_count": null,
   "id": "447324c7-e421-4ee6-a6ca-ff3b2bb2589d",
   "metadata": {
    "tags": []
   },
   "outputs": [],
   "source": [
    "# Set 'key' as index if needed\n",
    "df_prep = results_df_pd.copy()\n",
    "df_prep['lbpduration'][df_prep['lbpduration']=='unspecified'] = 0\n",
    "df_prep['lbpduration'][df_prep['lbpduration']=='acute'] = 1\n",
    "df_prep['lbpduration'][df_prep['lbpduration']=='chronic'] = 2\n",
    "\n",
    "df_predictors = df_prep.groupby('patientdurablekey', as_index=True).max()\n",
    "\n",
    "column_names = list(df_predictors.columns)\n",
    "for col in column_names:\n",
    "    print(df_predictors[col].value_counts())\n",
    "    \n",
    "df_predictors"
   ]
  },
  {
   "cell_type": "markdown",
   "id": "c346eb92-357a-45ee-8365-1d43190e13ab",
   "metadata": {
    "tags": []
   },
   "source": [
    "### Images"
   ]
  },
  {
   "cell_type": "code",
   "execution_count": null,
   "id": "8e320cb8-5df6-47eb-98c8-b541e7561e09",
   "metadata": {
    "tags": []
   },
   "outputs": [],
   "source": [
    "# Intervention Labels\n",
    "imageQuery = f'''\n",
    "/*\n",
    "Create Date: MRI image metadata\n",
    "*/\n",
    "\n",
    "SELECT DISTINCT\n",
    "    --a.*,\n",
    "    a.body_part_examined\n",
    "FROM \n",
    "  read_csv('{config.get('mri_cfg').get('save_search_cfg',{}).get('metadata_csv',None)}') as a\n",
    "LEFT JOIN tmp_img_df as b\n",
    "ON a.accession_number = b.accessionnumber\n",
    "\n",
    "WHERE \n",
    "  b.patientdurablekey IN {tuple(patientdurablekey_study_list)}\n",
    "\n",
    "'''\n",
    "\n",
    "# Run query and update relevant keys\n",
    "results_df_pd = PlumsExtractor.run_query(imageQuery,runtime_flag=True,df_type='pandas')\n",
    "    \n",
    "list(results_df_pd['body_part_examined'])"
   ]
  },
  {
   "cell_type": "code",
   "execution_count": null,
   "id": "73c53e26-3a52-4e3f-840b-8d3bcc5c44d2",
   "metadata": {
    "tags": []
   },
   "outputs": [],
   "source": [
    "# Intervention Labels\n",
    "imageQuery = f'''\n",
    "/*\n",
    "Create Date: MRI image metadata \n",
    "*/\n",
    "\n",
    "SELECT DISTINCT\n",
    "    --a.*,\n",
    "    b.patientdurablekey,\n",
    "    a.accession_number,\n",
    "    a.dcm_dirs,\n",
    "    a.scan_type,\n",
    "    a.body_part_examined,\n",
    "    CONCAT(b.patientdurablekey, '_', a.accession_number) AS subject_id  \n",
    "FROM \n",
    "  read_csv('{config.get('mri_cfg').get('save_search_cfg',{}).get('metadata_csv',None)}') as a\n",
    "LEFT JOIN tmp_img_df as b\n",
    "ON a.accession_number = b.accessionnumber\n",
    "\n",
    "WHERE \n",
    "  b.patientdurablekey IN {tuple(patientdurablekey_study_list)}\n",
    "  AND UPPER(a.body_part_examined) LIKE '%SPINE%'\n",
    "  AND UPPER(a.body_part_examined) NOT LIKE '%BRAIN%' -- TBD remove ORBIT\n",
    "  AND UPPER(a.body_part_examined) NOT LIKE '%HEAD%'\n",
    "  AND UPPER(a.body_part_examined) NOT LIKE '%PELVIS%'\n",
    "  AND UPPER(a.body_part_examined) NOT LIKE '%ABDOMEN%'\n",
    "  AND UPPER(a.body_part_examined) NOT LIKE '%TMJ%'\n",
    "  AND UPPER(a.body_part_examined) NOT LIKE '%TSPINE%'\n",
    "  AND UPPER(a.body_part_examined) NOT LIKE '%TMJ%'\n",
    "  \n",
    "  --AND LOWER(a.scan_type) LIKE 't1-ax'\n",
    "  \n",
    "ORDER BY\n",
    "  --a.scan_type,\n",
    "  b.patientdurablekey\n",
    "'''\n",
    "\n",
    "# Run query and update relevant keys\n",
    "results_df_pd = PlumsExtractor.run_query(imageQuery,runtime_flag=True,df_type='pandas')\n",
    "\n",
    "# Save table\n",
    "PlumsFiles.save_df_to_parquet(results_df_pd,PlumsFiles.get_datapath('imagingeventfact_analysis_parquet'))\n",
    "PlumsFiles.save_df_to_csv(results_df_pd,PlumsFiles.get_datapath('imagingeventfact_analysis_csv'))\n",
    "\n",
    "#Check whether query makes sense\n",
    "if check_query_flag==True:\n",
    "    PlumsExtractor.col_to_list(results_df_pd, 'patientdurablekey')\n",
    "\n",
    "filtered_df = results_df_pd.copy()\n",
    "\n",
    "results_df_pd.head()"
   ]
  },
  {
   "cell_type": "code",
   "execution_count": null,
   "id": "7e2c27a3-9f44-44e9-bab9-85279efe8c81",
   "metadata": {
    "tags": []
   },
   "outputs": [],
   "source": [
    "# Visualize MR images\n",
    "import pydicom as dicom\n",
    "import matplotlib.pyplot as plt\n",
    "\n",
    "# Number of rows and columns per figure\n",
    "rows, cols = 4, 8\n",
    "images_per_figure = rows * cols\n",
    "\n",
    "# Loop through the dataframe in batches of 32 images\n",
    "for start_idx in range(0, 130, images_per_figure):\n",
    "    fig, axes = plt.subplots(rows, cols, figsize=(20, 10))\n",
    "    fig.suptitle(f'Images {start_idx + 1} to {start_idx + images_per_figure}', fontsize=16)\n",
    "    axes = axes.ravel()  # Flatten the axes array for easy indexing\n",
    "\n",
    "    # Process each image in the current batch\n",
    "    for i, ii in enumerate(range(start_idx, min(start_idx + images_per_figure, len(results_df_pd)))):\n",
    "        path = results_df_pd['dcm_dirs'][ii]\n",
    "        files = os.listdir(path)\n",
    "        body_part = results_df_pd['body_part_examined'][ii]\n",
    "        series = results_df_pd['scan_type'][ii]\n",
    "        # Read the DICOM image\n",
    "        image_path = os.path.join(path, files[6])  # Change index if needed\n",
    "        ds = dicom.dcmread(image_path)\n",
    "\n",
    "        # Plot image\n",
    "        axes[i].imshow(ds.pixel_array, cmap='gray')\n",
    "        axes[i].set_title(f'{body_part}{series}')\n",
    "        axes[i].axis('off')  # Hide axes ticks\n",
    "\n",
    "    # Hide any remaining empty subplots\n",
    "    for j in range(i + 1, rows * cols):\n",
    "        axes[j].axis('off')\n",
    "\n",
    "    plt.tight_layout(rect=[0, 0, 1, 0.95])\n",
    "    plt.show()"
   ]
  },
  {
   "cell_type": "code",
   "execution_count": null,
   "id": "99255be3-e7ea-44d5-9875-14eae69e29d6",
   "metadata": {
    "tags": []
   },
   "outputs": [],
   "source": [
    "# List of patients with images for each required sequence\n",
    "# List of required scan types to filter by\n",
    "required_scan_types = ['t1-sag', 't1-ax', 't2-sag', 't2-ax']\n",
    "\n",
    "# Find AccessionNumbers that have all required scan types\n",
    "valid_accessions = filtered_df.groupby('patientdurablekey')['scan_type'].apply(lambda x: set(required_scan_types).issubset(set(x)))\n",
    "\n",
    "# Filter the DataFrame to include only those AccessionNumbers\n",
    "filtered_df = filtered_df[filtered_df['patientdurablekey'].isin(valid_accessions[valid_accessions].index)]\n",
    "\n",
    "df_images = filtered_df.copy()\n",
    "\n",
    "# Display the filtered DataFrame\n",
    "print(len(filtered_df))\n",
    "filtered_df.head()\n",
    "\n",
    "# Find common AccessionNumber values in both DataFrames\n",
    "common_pdk = list(set(df_images['patientdurablekey']))\n",
    "\n",
    "# Function to get image data based on scan type\n",
    "def get_image_data(df, key_value, scan_type):\n",
    "    try:\n",
    "        result = df.loc[\n",
    "            (df['patientdurablekey'] == key_value) & \n",
    "            (df['scan_type'] == scan_type), \n",
    "            'dcm_dirs'\n",
    "        ]\n",
    "    except:\n",
    "        result = ''\n",
    "    return result.values[-1] if not result.empty else None\n",
    "\n",
    "# Build the new DataFrame\n",
    "df_new = pd.DataFrame({\n",
    "    'patientdurablekey': common_pdk,\n",
    "    't1_sag': [get_image_data(df_images, num, 't1-sag') for num in common_pdk],\n",
    "    't1_ax': [get_image_data(df_images, num, 't1-ax') for num in common_pdk],\n",
    "    't2_sag': [get_image_data(df_images, num, 't2-sag') for num in common_pdk],\n",
    "    't2_ax': [get_image_data(df_images, num, 't2-ax') for num in common_pdk],\n",
    "    'subject_id': [list(df_images['subject_id'][df_images['patientdurablekey'] == num])[0] for num in common_pdk],\n",
    "})\n",
    "print(len(df_new))\n",
    "\n",
    "\n",
    "save_path = config.get('analysis_data_dir') + '/analysis_imagingpaths.csv'\n",
    "print(save_path)\n",
    "PlumsFiles.save_df_to_csv(df_new, save_path)\n",
    "\n",
    "df_new"
   ]
  },
  {
   "cell_type": "markdown",
   "id": "d9281f93-0186-4c1e-8a27-0e66bfab902a",
   "metadata": {
    "jp-MarkdownHeadingCollapsed": true,
    "tags": []
   },
   "source": [
    "## Query Development Only\n",
    "Predictors derived from diagnoses"
   ]
  },
  {
   "cell_type": "markdown",
   "id": "15efe4a6-8f98-49bc-be54-7d5a2091de6d",
   "metadata": {
    "jp-MarkdownHeadingCollapsed": true,
    "tags": []
   },
   "source": [
    "### Defining Diagnosisname Predicors - "
   ]
  },
  {
   "cell_type": "code",
   "execution_count": null,
   "id": "5f93d0ed-aaa8-4583-8d8d-3a9b5695e437",
   "metadata": {
    "tags": []
   },
   "outputs": [],
   "source": [
    "# Intervention Labels\n",
    "inputQuery = f'''\n",
    "/*\n",
    "Description: Exploration to define diagnosisname values in each category (e.g. ethnicity)\n",
    "*/\n",
    "\n",
    "SELECT DISTINCT\n",
    "  --patientdurablekey,\n",
    "  diagnosisname\n",
    "FROM \n",
    "  read_parquet('{PlumsFiles.get_datapath('diagnosiseventfact_parquet')}')\n",
    "WHERE\n",
    "   LOWER(diagnosisname) LIKE '%fibromyalgia%'\n",
    "   OR LOWER(diagnosisname) LIKE '%fibrosis%'\n",
    "  \n",
    "'''\n",
    "\n",
    "# Run query and update relevant keys\n",
    "results_df_pd = PlumsExtractor.run_query(inputQuery,runtime_flag=True,df_type='pandas')\n",
    "\n",
    "list(set(results_df_pd['diagnosisname']))"
   ]
  },
  {
   "cell_type": "markdown",
   "id": "fd764f67-fb0e-4a70-a5aa-6a9c7123e757",
   "metadata": {
    "jp-MarkdownHeadingCollapsed": true,
    "tags": []
   },
   "source": [
    "### Disc Pathology Predictors"
   ]
  },
  {
   "cell_type": "code",
   "execution_count": null,
   "id": "280d26d3-0fdb-4556-9c41-10d9d5181f57",
   "metadata": {
    "tags": []
   },
   "outputs": [],
   "source": [
    "# Intervention Labels\n",
    "inputQuery = f'''\n",
    "/*\n",
    "Description: Exploration to define diagnosisname criteria for binary categories (e.g. disc pathology)\n",
    "*/\n",
    "\n",
    "SELECT DISTINCT\n",
    "  --patientdurablekey,\n",
    "  diagnosisname\n",
    "FROM \n",
    "  read_parquet('{PlumsFiles.get_datapath('diagnosiseventfact_parquet')}')\n",
    "WHERE\n",
    "   LOWER(diagnosisname) LIKE '%disc%'\n",
    "   --AND LOWER(diagnosisname) NOT LIKE '%back%pain%'\n",
    "   \n",
    "  \n",
    "ORDER BY\n",
    "  patientdurablekey\n",
    "'''\n",
    "\n",
    "# Run query and update relevant keys\n",
    "results_df_pd = PlumsExtractor.run_query(inputQuery,runtime_flag=True,df_type='pandas')\n",
    "\n",
    "results_df_pd"
   ]
  },
  {
   "cell_type": "code",
   "execution_count": null,
   "id": "99289e53-82b2-4399-a081-a3e8afd10969",
   "metadata": {
    "tags": []
   },
   "outputs": [],
   "source": [
    "set(results_df_pd['diagnosisname'])"
   ]
  },
  {
   "cell_type": "markdown",
   "id": "9856e34d-b578-4f4a-8b1d-4a73d95cb3ce",
   "metadata": {
    "tags": []
   },
   "source": [
    "# End"
   ]
  }
 ],
 "metadata": {
  "kernelspec": {
   "display_name": "py_env_EMR",
   "language": "python",
   "name": "python3"
  },
  "language_info": {
   "codemirror_mode": {
    "name": "ipython",
    "version": 3
   },
   "file_extension": ".py",
   "mimetype": "text/x-python",
   "name": "python",
   "nbconvert_exporter": "python",
   "pygments_lexer": "ipython3",
   "version": "3.11.9"
  }
 },
 "nbformat": 4,
 "nbformat_minor": 5
}
