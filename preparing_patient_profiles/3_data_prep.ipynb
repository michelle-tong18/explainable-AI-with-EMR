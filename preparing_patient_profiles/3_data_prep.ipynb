{
 "cells": [
  {
   "cell_type": "code",
   "execution_count": null,
   "id": "d0d556cd-7cde-4ce9-990c-c17ac0482df5",
   "metadata": {
    "tags": []
   },
   "outputs": [],
   "source": [
    "import pandas as pd\n",
    "\n",
    "import os\n",
    "import pyrootutils\n",
    "root = pyrootutils.setup_root(\n",
    "    search_from=os.path.abspath(''),\n",
    "    indicator=[\".git\"],\n",
    "    pythonpath=True, # add root directory to the PYTHONPATH (helps with imports)\n",
    "    dotenv=True, # load environment variables from .env if exists in root directory\n",
    ")\n",
    "\n",
    "from utils.file_management.config_loader import load_yaml, process_config_values\n",
    "from utils.file_management.file_manager import FileManager \n",
    "from utils.query_utils.extractor import Extractor\n",
    "\n",
    "from tableone import TableOne\n",
    "import matplotlib.pyplot as plt"
   ]
  },
  {
   "cell_type": "code",
   "execution_count": null,
   "id": "58391772-7684-464d-b683-5ded344a9aba",
   "metadata": {
    "tags": []
   },
   "outputs": [],
   "source": [
    "# Load yaml file with dataset information\n",
    "config_path = str(root) + '/config/LBP_cohort.yaml'\n",
    "config = process_config_values(load_yaml(config_path))\n",
    "\n",
    "# Load paths to data\n",
    "PlumsFiles = FileManager(config.get('file_directory'))\n",
    "\n",
    "#Set print counts flag\n",
    "check_query_flag = True       #axilluary checks to see if query makes sense\n",
    "PlumsExtractor = Extractor(num_results_flag=True, display_results_flag=True)\n",
    "\n",
    "# Identify Patients\n",
    "patientdurablekey_list = pd.read_csv(PlumsFiles.get_datapath('patientdurablekey_csv'))\n",
    "patientdurablekey_list = list(patientdurablekey_list['patientdurablekey'])\n",
    "print(len(patientdurablekey_list))\n",
    "\n",
    "# Identify Imaging ID (accessions)\n",
    "accessionnumber_list = pd.read_csv(PlumsFiles.get_datapath('accessionnumber_csv'))\n",
    "accessionnumber_list = list(accessionnumber_list['accessionnumber'])\n",
    "print(len(accessionnumber_list))"
   ]
  },
  {
   "cell_type": "markdown",
   "id": "4039d807-1c81-48f5-ab39-2e98d909615a",
   "metadata": {},
   "source": [
    "# Data Loading"
   ]
  },
  {
   "cell_type": "markdown",
   "id": "0de7e101-9e01-4eb2-b861-d315f1872d55",
   "metadata": {},
   "source": [
    "## Categorical Data"
   ]
  },
  {
   "cell_type": "markdown",
   "id": "5cb0277a-9bf5-4d1b-8918-39e48b95b630",
   "metadata": {},
   "source": [
    "### Load Predictors, with labels"
   ]
  },
  {
   "cell_type": "code",
   "execution_count": null,
   "id": "16b55b81-eb9e-466c-afd9-0f56f99f656b",
   "metadata": {
    "tags": []
   },
   "outputs": [],
   "source": [
    "dataQuery = f'''\n",
    "/*\n",
    "Description: Patient demographics\n",
    "*/\n",
    "\n",
    "SELECT DISTINCT\n",
    "    patientdurablekey,\n",
    "    ageatfirstimaging,\n",
    "    yearatfirstimaging,\n",
    "    sex,\n",
    "    preferredlanguage,\n",
    "    raceethnicity,\n",
    "    smokingstatus,\n",
    "    --religion,\n",
    "    socialsupport,\n",
    "    primaryinsurance\n",
    "FROM \n",
    "  read_parquet('{PlumsFiles.get_datapath('patdurabledim_analysis_imputed_parquet')}')\n",
    "WHERE \n",
    "  patientdurablekey IN {tuple(patientdurablekey_list)}\n",
    "\n",
    "ORDER BY\n",
    "  patientdurablekey\n",
    "'''\n",
    "\n",
    "# Run query and update relevant keys\n",
    "results_df_pd = PlumsExtractor.run_query(dataQuery,runtime_flag=True,df_type='pandas')\n",
    "\n",
    "#Check whether query makes sense\n",
    "if check_query_flag==True:\n",
    "    PlumsExtractor.col_to_list(results_df_pd, 'patientdurablekey')\n",
    "    \n",
    "df_predictors1 = results_df_pd.copy()\n",
    "\n",
    "results_df_pd.head()"
   ]
  },
  {
   "cell_type": "code",
   "execution_count": null,
   "id": "ad129e9c-865a-477a-bf4d-7dee7c81c7da",
   "metadata": {
    "tags": []
   },
   "outputs": [],
   "source": [
    "# Predictor Labels\n",
    "dataQuery = f'''\n",
    "/*\n",
    "Description: Patient diagnoses\n",
    "*/\n",
    "\n",
    "SELECT DISTINCT\n",
    "    *\n",
    "FROM \n",
    "  read_parquet('{PlumsFiles.get_datapath('diagnosiseventfact_analysis_parquet')}')\n",
    "WHERE \n",
    "  patientdurablekey IN {tuple(patientdurablekey_list)}\n",
    "        \n",
    "ORDER BY\n",
    "  patientdurablekey\n",
    "'''\n",
    "\n",
    "# Run query and update relevant keys\n",
    "results_df_pd = PlumsExtractor.run_query(dataQuery,runtime_flag=True,df_type='pandas')\n",
    "\n",
    "#Check whether query makes sense\n",
    "if check_query_flag==True:\n",
    "    PlumsExtractor.col_to_list(results_df_pd, 'patientdurablekey')\n",
    "\n",
    "df_predictors3 = results_df_pd.copy()\n",
    "\n",
    "# Set 'key' as index if needed\n",
    "df_predictors3 = results_df_pd.copy()\n",
    "df_predictors3['lbpduration'][df_predictors3['lbpduration']=='unspecified'] = 0\n",
    "df_predictors3['lbpduration'][df_predictors3['lbpduration']=='acute'] = 1\n",
    "df_predictors3['lbpduration'][df_predictors3['lbpduration']=='chronic'] = 2\n",
    "\n",
    "df_predictors3 = df_predictors3.groupby('patientdurablekey', as_index=True).max().reset_index()\n",
    "\n",
    "results_df_pd.head()"
   ]
  },
  {
   "cell_type": "code",
   "execution_count": null,
   "id": "6f132cd9-ef73-46b9-9bff-1d6a1b5503e0",
   "metadata": {
    "tags": []
   },
   "outputs": [],
   "source": [
    "# Note data\n",
    "note_filepath = #TODO '/path_to_your_project/cohort_note_text.csv'\n",
    "\n",
    "dataQuery = f'''\n",
    "/*\n",
    "Description: Patient clinical charts\n",
    "*/\n",
    "\n",
    "SELECT DISTINCT\n",
    "    *,\n",
    "FROM \n",
    "  read_csv('{note_filepath}')\n",
    "\n",
    "ORDER BY\n",
    "  patientdurablekey\n",
    "'''\n",
    "\n",
    "# Run query and update relevant keys\n",
    "results_df_pd = PlumsExtractor.run_query(dataQuery,runtime_flag=True,df_type='pandas')\n",
    "\n",
    "#Check whether query makes sense\n",
    "if check_query_flag==True:\n",
    "    PlumsExtractor.col_to_list(results_df_pd, 'patientdurablekey')\n",
    "\n",
    "#results_df_pd.head()\n",
    "\n",
    "# Sample code to compute the maximum value for each feature group\n",
    "feature_groups = ['gpt_endplate', 'gpt_disc', 'gpt_scs', 'gpt_fj', 'gpt_lrs', 'gpt_fs', 'gpt_sij', 'gpt_olisth', 'gpt_curv', 'gpt_frac']\n",
    "max_values = {}\n",
    "\n",
    "# Loop through each feature group, filter columns that match the feature name, and calculate the max value for each group\n",
    "for group in feature_groups:\n",
    "    # Filter columns that contain the feature group name\n",
    "    group_columns = results_df_pd.filter(regex=f'^{group}').columns\n",
    "    # Calculate the max value across these columns\n",
    "    max_values[group] = results_df_pd[group_columns].max(axis=1)\n",
    "\n",
    "# Convert the results to a DataFrame for easier readability\n",
    "df_predictors4 = pd.DataFrame(max_values)\n",
    "df_predictors4['patientdurablekey'] = results_df_pd['patientdurablekey']\n",
    "df_predictors4 = df_predictors4.groupby('patientdurablekey').max().reset_index()\n",
    "# Fill in rows with missing data\n",
    "df_predictors4.fillna(0, inplace=True)\n",
    "\n",
    "df_predictors4.head()"
   ]
  },
  {
   "cell_type": "code",
   "execution_count": null,
   "id": "6857cbd9-9197-45d4-a53e-881d5110b3e7",
   "metadata": {
    "tags": []
   },
   "outputs": [],
   "source": [
    "# Identify patients without any interventions\n",
    "missing_patients = list(set(patientdurablekey_list) - set(df_predictors4['patientdurablekey']))\n",
    "print(len(missing_patients))\n",
    "\n",
    "# Create a dictionary with 'patientdurablekey' as the missing keys and all other columns initialized to 0\n",
    "missing_data = {'patientdurablekey': missing_patients}\n",
    "for col in df_predictors4.columns.drop('patientdurablekey'):\n",
    "    missing_data[col] = -1\n",
    "# Create the new DataFrame with the missing patients\n",
    "df_missing = pd.DataFrame(missing_data)\n",
    "# Append the new rows to the existing DataFrame\n",
    "df_predictors4 = pd.concat([df_predictors4, df_missing], ignore_index=True)\n",
    "\n",
    "df_predictors4"
   ]
  },
  {
   "cell_type": "markdown",
   "id": "f0c744a2-6b1c-45a0-8cad-ff24e8c5f766",
   "metadata": {},
   "source": [
    "### Combine Predictors, with labels"
   ]
  },
  {
   "cell_type": "code",
   "execution_count": null,
   "id": "26fef70c-fa5c-4b5b-9fd7-d93a5e297820",
   "metadata": {
    "tags": []
   },
   "outputs": [],
   "source": [
    "# Predictor Labels\n",
    "dataQuery = f'''\n",
    "/*\n",
    "Description: Combine predictors from each relational table into one df\n",
    "*/\n",
    "\n",
    "SELECT DISTINCT\n",
    "    *\n",
    "FROM \n",
    "  (SELECT DISTINCT\n",
    "  a.*\n",
    "  FROM df_predictors1 as a\n",
    "  ) as d\n",
    "INNER JOIN df_predictors3 as c\n",
    "ON d.patientdurablekey = c.patientdurablekey\n",
    "INNER JOIN df_predictors4 as e\n",
    "ON d.patientdurablekey = e.patientdurablekey\n",
    "        \n",
    "ORDER BY\n",
    "  c.patientdurablekey\n",
    "'''\n",
    "\n",
    "# Run query and update relevant keys\n",
    "results_df_pd = PlumsExtractor.run_query(dataQuery,runtime_flag=True,df_type='pandas')\n",
    "\n",
    "#Check whether query makes sense\n",
    "if check_query_flag==True:\n",
    "    PlumsExtractor.col_to_list(results_df_pd, 'patientdurablekey')\n",
    "\n",
    "df_predictors = results_df_pd.copy().drop(['patientdurablekey_1','patientdurablekey_2'], axis=1)\n",
    "df_predictors = df_predictors.drop(['anxiety','depression'],axis=1)\n",
    "df_predictors.head()"
   ]
  },
  {
   "cell_type": "code",
   "execution_count": null,
   "id": "50ab4e96-ff79-44c9-ac76-3c571bb80d89",
   "metadata": {},
   "outputs": [],
   "source": []
  },
  {
   "cell_type": "markdown",
   "id": "d2b0298a-3076-4ce5-844f-d8d2aca06ec2",
   "metadata": {},
   "source": [
    "### Load Outcomes, with labels"
   ]
  },
  {
   "cell_type": "code",
   "execution_count": null,
   "id": "69a052ce-dcdc-49f9-b73b-b073004edd05",
   "metadata": {
    "tags": []
   },
   "outputs": [],
   "source": [
    "# Outcome Labels\n",
    "dataQuery = f'''\n",
    "/*\n",
    "Description: Patient medications\n",
    "*/\n",
    "\n",
    "SELECT DISTINCT\n",
    "    CASE WHEN a.interventiontype=1 THEN 'nsaids'\n",
    "      WHEN a.interventiontype=2 THEN 'opioids'\n",
    "      WHEN a.interventiontype=3 THEN 'opioids'\n",
    "    ELSE 'unspecified'\n",
    "    END AS interventiontype,\n",
    "    b.*\n",
    "FROM \n",
    "  read_parquet('{PlumsFiles.get_datapath('interventiontype_singlelabel_analysis_parquet')}') as a\n",
    "INNER JOIN df_predictors as b\n",
    "ON a.patientdurablekey = b.patientdurablekey\n",
    "WHERE \n",
    "  a.patientdurablekey IN {tuple(patientdurablekey_list)}\n",
    "        \n",
    "ORDER BY\n",
    "  a.patientdurablekey\n",
    "'''\n",
    "\n",
    "# Run query and update relevant keys\n",
    "results_df_pd = PlumsExtractor.run_query(dataQuery,runtime_flag=True,df_type='pandas')\n",
    "\n",
    "#Check whether query makes sense\n",
    "if check_query_flag==True:\n",
    "    PlumsExtractor.col_to_list(results_df_pd, 'patientdurablekey')\n",
    "    print(results_df_pd.value_counts('interventiontype'))\n",
    "    \n",
    "results_df_pd.head()"
   ]
  },
  {
   "cell_type": "markdown",
   "id": "c21d9356",
   "metadata": {},
   "source": [
    "### Summarize Data Distributions"
   ]
  },
  {
   "cell_type": "code",
   "execution_count": null,
   "id": "c1d617a0",
   "metadata": {},
   "outputs": [],
   "source": [
    "df_data_with_notes = results_df_pd[results_df_pd['gpt_disc'] != -1].set_index('patientdurablekey').dropna()\n",
    "df_data_with_notes \n",
    "\n",
    "continuous = ['ageatfirstimaging', 'yearatfirstimaging']\n",
    "df_summary = TableOne(df_data_with_notes, \n",
    "                      groupby='interventiontype', \n",
    "                      categorical=[x for x in df_data_with_notes.columns if x not in continuous],\n",
    "                      continuous=continuous,\n",
    "                      pval=True)\n",
    "\n",
    "save_path = PlumsFiles.get_datapath('model_output_dir').replace('MODEL','classification_1class_meds').replace('INDEPENDENT_VAR','master_data_for_analysis_with_report_tableone_stats.csv') \n",
    "df_summary.to_csv(save_path,index=True)\n",
    "df_summary"
   ]
  },
  {
   "cell_type": "code",
   "execution_count": null,
   "id": "aca3b6ea-ba94-4308-8a5a-ac4803404d8c",
   "metadata": {
    "tags": []
   },
   "outputs": [],
   "source": [
    "# Data summary\n",
    "df_data = results_df_pd.set_index('patientdurablekey').dropna() #.replace('unknown', '')\n",
    "\n",
    "save_path = PlumsFiles.get_datapath('model_output_dir').replace('MODEL','classification_1class_meds').replace('INDEPENDENT_VAR','master_data_for_analysis_revision1.csv') \n",
    "df_data.to_csv(save_path,index=True)\n",
    "\n",
    "continuous = ['ageatfirstimaging', 'yearatfirstimaging']\n",
    "df_summary = TableOne(df_data, \n",
    "                      groupby='interventiontype', \n",
    "                      categorical=[x for x in df_data.columns if x not in continuous],\n",
    "                      continuous=continuous,\n",
    "                      pval=True)\n",
    "df_summary"
   ]
  },
  {
   "cell_type": "code",
   "execution_count": null,
   "id": "d35b7fc5-9c1a-4f67-b1a8-465b90843b45",
   "metadata": {
    "tags": []
   },
   "outputs": [],
   "source": [
    "df_data.hist(figsize=[23, 15])\n",
    "plt.tight_layout()\n",
    "plt.show()"
   ]
  },
  {
   "cell_type": "code",
   "execution_count": null,
   "id": "c55b21ad-9b0d-494a-a98f-f0ed3983fe67",
   "metadata": {
    "tags": []
   },
   "outputs": [],
   "source": [
    "df_data[df_data['interventiontype']=='nsaids'].hist(figsize=[23, 15])\n",
    "plt.tight_layout()\n",
    "plt.show()"
   ]
  },
  {
   "cell_type": "code",
   "execution_count": null,
   "id": "b05440f4-117a-4be5-bcb1-d195decf7de0",
   "metadata": {
    "tags": []
   },
   "outputs": [],
   "source": [
    "df_data[df_data['interventiontype']=='opioids'].hist(figsize=[23, 15])\n",
    "plt.tight_layout()\n",
    "plt.show()"
   ]
  },
  {
   "cell_type": "markdown",
   "id": "0de930f8-1b9b-40f2-9ad6-7019eeaae556",
   "metadata": {},
   "source": [
    "## Data Mapped from Categorical to Numerical"
   ]
  },
  {
   "cell_type": "markdown",
   "id": "3f298624-1f10-44ce-a89a-f911810a8790",
   "metadata": {},
   "source": [
    "### Load Predictors, Cateogrical --> Numerical"
   ]
  },
  {
   "cell_type": "code",
   "execution_count": null,
   "id": "451d68a4-2737-4bec-84f3-2105ad999030",
   "metadata": {
    "tags": []
   },
   "outputs": [],
   "source": [
    "# Predictor Labels\n",
    "\n",
    "dataQuery = f'''\n",
    "/*\n",
    "Description: Patient demographics with raceethnicity One Hot Encoded \n",
    "*/\n",
    "\n",
    "SELECT DISTINCT\n",
    "    patientdurablekey,\n",
    "    ageatfirstimaging,\n",
    "    yearatfirstimaging,\n",
    "    CASE WHEN sex LIKE 'Male' THEN 1\n",
    "        ELSE 0\n",
    "        END AS sex,\n",
    "    CASE WHEN preferredlanguage LIKE 'english' THEN 1\n",
    "        ELSE 0\n",
    "        END AS preferredlanguage,\n",
    "    CASE WHEN raceethnicity LIKE 'white' THEN 1\n",
    "        ELSE 0\n",
    "        END AS race_white,\n",
    "    CASE WHEN raceethnicity LIKE 'asian' THEN 1\n",
    "        ELSE 0\n",
    "        END AS race_asian,\n",
    "    CASE WHEN raceethnicity LIKE 'latinx' THEN 1\n",
    "        ELSE 0\n",
    "        END AS race_latinx,\n",
    "    CASE WHEN raceethnicity LIKE 'black or african american' THEN 1\n",
    "        ELSE 0\n",
    "        END AS race_blackorafricanamerican,\n",
    "    CASE WHEN raceethnicity LIKE 'unknown' THEN 1\n",
    "        ELSE 0\n",
    "        END AS race_unknown,\n",
    "    CASE WHEN raceethnicity LIKE 'other' THEN 1\n",
    "        ELSE 0\n",
    "        END AS race_other,\n",
    "    CASE WHEN smokingstatus LIKE 'smoker' THEN 2\n",
    "        WHEN smokingstatus LIKE 'former' THEN 1\n",
    "        WHEN smokingstatus LIKE 'never' THEN 0\n",
    "        ELSE -1\n",
    "        END AS smokingstatus,\n",
    "    --CASE WHEN religion LIKE 'unknown' THEN -1\n",
    "    --    WHEN religion LIKE 'none' THEN 0\n",
    "    --    ELSE 1\n",
    "    --    END AS religion,\n",
    "    CASE WHEN socialsupport LIKE 'partnered' THEN 1\n",
    "        WHEN socialsupport LIKE 'single/separated' THEN 0\n",
    "        ELSE -1\n",
    "        END AS socialsupport,\n",
    "    primaryinsurance\n",
    "FROM \n",
    "  read_parquet('{PlumsFiles.get_datapath('patdurabledim_analysis_imputed_parquet')}')\n",
    "WHERE \n",
    "  patientdurablekey IN {tuple(patientdurablekey_list)}\n",
    "\n",
    "ORDER BY\n",
    "  patientdurablekey\n",
    "'''\n",
    "\n",
    "dataQuery = f'''\n",
    "/*\n",
    "Description: Patient demographics with raceethnicity ordinally encoded\n",
    "*/\n",
    "\n",
    "SELECT DISTINCT\n",
    "    patientdurablekey,\n",
    "    ageatfirstimaging,\n",
    "    yearatfirstimaging,\n",
    "    CASE WHEN sex LIKE 'Male' THEN 1\n",
    "        ELSE 0\n",
    "        END AS sex,\n",
    "    CASE WHEN preferredlanguage LIKE 'english' THEN 1\n",
    "        ELSE 0\n",
    "        END AS preferredlanguage,\n",
    "    CASE WHEN raceethnicity LIKE 'white' THEN 1\n",
    "        WHEN raceethnicity LIKE 'asian' THEN 2\n",
    "        WHEN raceethnicity LIKE 'latinx' THEN 3\n",
    "        WHEN raceethnicity LIKE 'black or african american' THEN 4\n",
    "        WHEN raceethnicity LIKE 'unknown' THEN -1\n",
    "        WHEN raceethnicity LIKE 'other' THEN 6\n",
    "        ELSE -1\n",
    "        END AS raceethnicity,\n",
    "    CASE WHEN smokingstatus LIKE 'smoker' THEN 2\n",
    "        WHEN smokingstatus LIKE 'former' THEN 1\n",
    "        WHEN smokingstatus LIKE 'never' THEN 0\n",
    "        ELSE -1\n",
    "        END AS smokingstatus,\n",
    "    --CASE WHEN religion LIKE 'unknown' THEN -1\n",
    "    --    WHEN religion LIKE 'none' THEN 0\n",
    "    --    ELSE 1\n",
    "    --    END AS religion,\n",
    "    CASE WHEN socialsupport LIKE 'partnered' THEN 1\n",
    "        WHEN socialsupport LIKE 'single/separated' THEN 0\n",
    "        ELSE -1\n",
    "        END AS socialsupport,\n",
    "    CASE WHEN primaryinsurance LIKE 'PPO' THEN 4\n",
    "        WHEN primaryinsurance LIKE 'HMO/POS/EPO' THEN 3\n",
    "        WHEN primaryinsurance LIKE 'medicare' THEN 2\n",
    "        WHEN primaryinsurance LIKE 'medicaid' THEN 1\n",
    "        WHEN primaryinsurance LIKE 'other' THEN 0\n",
    "        ELSE -1\n",
    "        END AS primaryinsurance\n",
    "FROM \n",
    "  read_parquet('{PlumsFiles.get_datapath('patdurabledim_analysis_imputed_parquet')}')\n",
    "WHERE \n",
    "  patientdurablekey IN {tuple(patientdurablekey_list)}\n",
    "\n",
    "ORDER BY\n",
    "  patientdurablekey\n",
    "'''\n",
    "\n",
    "# Run query and update relevant keys\n",
    "results_df_pd = PlumsExtractor.run_query(dataQuery,runtime_flag=True,df_type='pandas')\n",
    "\n",
    "#Check whether query makes sense\n",
    "if check_query_flag==True:\n",
    "    PlumsExtractor.col_to_list(results_df_pd, 'patientdurablekey')\n",
    "    \n",
    "df_predictors1 = results_df_pd.copy()\n",
    "\n",
    "results_df_pd.head()"
   ]
  },
  {
   "cell_type": "code",
   "execution_count": null,
   "id": "a3a43d61-fde3-4673-bdb3-b0d21cbfbdc2",
   "metadata": {
    "tags": []
   },
   "outputs": [],
   "source": [
    "# Predictor Labels\n",
    "dataQuery = f'''\n",
    "/*\n",
    "Description: Patient diagnoses\n",
    "*/\n",
    "\n",
    "SELECT DISTINCT\n",
    "    *\n",
    "FROM \n",
    "  read_parquet('{PlumsFiles.get_datapath('diagnosiseventfact_analysis_parquet')}')\n",
    "WHERE \n",
    "  patientdurablekey IN {tuple(patientdurablekey_list)}\n",
    "        \n",
    "ORDER BY\n",
    "  patientdurablekey\n",
    "'''\n",
    "\n",
    "# Run query and update relevant keys\n",
    "results_df_pd = PlumsExtractor.run_query(dataQuery,runtime_flag=True,df_type='pandas')\n",
    "\n",
    "#Check whether query makes sense\n",
    "if check_query_flag==True:\n",
    "    PlumsExtractor.col_to_list(results_df_pd, 'patientdurablekey')\n",
    "\n",
    "df_predictors3 = results_df_pd.copy()\n",
    "\n",
    "# Set 'key' as index if needed\n",
    "df_predictors3 = results_df_pd.copy()\n",
    "df_predictors3['lbpduration'][df_predictors3['lbpduration']=='unspecified'] = 0\n",
    "df_predictors3['lbpduration'][df_predictors3['lbpduration']=='acute'] = 1\n",
    "df_predictors3['lbpduration'][df_predictors3['lbpduration']=='chronic'] = 2\n",
    "\n",
    "df_predictors3 = df_predictors3.groupby('patientdurablekey', as_index=True).max().reset_index()\n",
    "\n",
    "results_df_pd.head()"
   ]
  },
  {
   "cell_type": "code",
   "execution_count": null,
   "id": "b188144c-f3d3-4f3e-8703-3825268826ab",
   "metadata": {
    "tags": []
   },
   "outputs": [],
   "source": [
    "# Note data\n",
    "note_filepath = #TODO '/path_to_your_project/cohort_note_text.csv'\n",
    "\n",
    "dataQuery = f'''\n",
    "/*\n",
    "Description: Patient clinical charts\n",
    "*/\n",
    "\n",
    "SELECT DISTINCT\n",
    "    *,\n",
    "FROM \n",
    "  read_csv('{note_filepath}')\n",
    "\n",
    "ORDER BY\n",
    "  patientdurablekey\n",
    "'''\n",
    "\n",
    "# Run query and update relevant keys\n",
    "results_df_pd = PlumsExtractor.run_query(dataQuery,runtime_flag=True,df_type='pandas')\n",
    "\n",
    "#Check whether query makes sense\n",
    "if check_query_flag==True:\n",
    "    PlumsExtractor.col_to_list(results_df_pd, 'patientdurablekey')\n",
    "\n",
    "#results_df_pd.head()\n",
    "\n",
    "# Sample code to compute the maximum value for each feature group\n",
    "feature_groups = ['gpt_endplate', 'gpt_disc', 'gpt_scs', 'gpt_fj', 'gpt_lrs', 'gpt_fs', 'gpt_sij', 'gpt_olisth', 'gpt_curv', 'gpt_frac']\n",
    "max_values = {}\n",
    "\n",
    "# Loop through each feature group, filter columns that match the feature name, and calculate the max value for each group\n",
    "for group in feature_groups:\n",
    "    # Filter columns that contain the feature group name\n",
    "    group_columns = results_df_pd.filter(regex=f'^{group}').columns\n",
    "    # Calculate the max value across these columns\n",
    "    max_values[group] = results_df_pd[group_columns].max(axis=1)\n",
    "\n",
    "# Convert the results to a DataFrame for easier readability\n",
    "df_predictors4 = pd.DataFrame(max_values)\n",
    "df_predictors4['patientdurablekey'] = results_df_pd['patientdurablekey']\n",
    "df_predictors4 = df_predictors4.groupby('patientdurablekey').max().reset_index()\n",
    "# Fill in rows with missing data\n",
    "df_predictors4.fillna(0, inplace=True)\n",
    "\n",
    "df_predictors4.head()"
   ]
  },
  {
   "cell_type": "code",
   "execution_count": null,
   "id": "d4f5d46b-3f1e-4f5e-b1f6-62fd6d1ecc7b",
   "metadata": {
    "tags": []
   },
   "outputs": [],
   "source": [
    "# Identify patients without any interventions\n",
    "missing_patients = list(set(patientdurablekey_list) - set(df_predictors4['patientdurablekey']))\n",
    "print(len(missing_patients))\n",
    "\n",
    "# Create a dictionary with 'patientdurablekey' as the missing keys and all other columns initialized to 0\n",
    "missing_data = {'patientdurablekey': missing_patients}\n",
    "for col in df_predictors4.columns.drop('patientdurablekey'):\n",
    "    missing_data[col] = 0\n",
    "# Create the new DataFrame with the missing patients\n",
    "df_missing = pd.DataFrame(missing_data)\n",
    "# Append the new rows to the existing DataFrame\n",
    "df_predictors4 = pd.concat([df_predictors4, df_missing], ignore_index=True)\n",
    "df_predictors4"
   ]
  },
  {
   "cell_type": "markdown",
   "id": "3df69239-b026-49d0-a6f3-32deceb643a4",
   "metadata": {},
   "source": [
    "### Combine Predictors, Categorical --> Numerical"
   ]
  },
  {
   "cell_type": "code",
   "execution_count": null,
   "id": "02c35d1b-77bc-4d36-a2df-44aaca3b6634",
   "metadata": {
    "tags": []
   },
   "outputs": [],
   "source": [
    "# Predictor Labels\n",
    "dataQuery = f'''\n",
    "/*\n",
    "Description: For analysis\n",
    "*/\n",
    "\n",
    "SELECT DISTINCT\n",
    "    *\n",
    "FROM \n",
    "  (SELECT DISTINCT\n",
    "  a.*,\n",
    "  --b.primaryinsurance\n",
    "  FROM df_predictors1 as a\n",
    "  --INNER JOIN df_predictors2 as b\n",
    "  --  ON a.patientdurablekey = b.patientdurablekey\n",
    "  ) as d\n",
    "INNER JOIN df_predictors3 as c\n",
    "ON d.patientdurablekey = c.patientdurablekey\n",
    "INNER JOIN df_predictors4 as e\n",
    "ON d.patientdurablekey = e.patientdurablekey\n",
    "        \n",
    "ORDER BY\n",
    "  c.patientdurablekey\n",
    "'''\n",
    "\n",
    "# Run query and update relevant keys\n",
    "results_df_pd = PlumsExtractor.run_query(dataQuery,runtime_flag=True,df_type='pandas')\n",
    "\n",
    "#Check whether query makes sense\n",
    "if check_query_flag==True:\n",
    "    PlumsExtractor.col_to_list(results_df_pd, 'patientdurablekey')\n",
    "\n",
    "df_predictors = results_df_pd.copy().drop(['patientdurablekey_1','patientdurablekey_2'], axis=1)\n",
    "df_predictors = df_predictors.drop(['anxiety','depression'],axis=1)\n",
    "df_predictors.head()"
   ]
  },
  {
   "cell_type": "code",
   "execution_count": null,
   "id": "61e21c9e-2785-433d-a38b-3d9f03a6ed4d",
   "metadata": {
    "tags": []
   },
   "outputs": [],
   "source": [
    "# Sanity check data distributions\n",
    "column_names = list(df_predictors.columns[1:])\n",
    "print(column_names)\n",
    "for col in column_names:\n",
    "    print(df_predictors[col].value_counts())"
   ]
  },
  {
   "cell_type": "markdown",
   "id": "97e7238d-a875-41de-8b5d-b59d6cece7e5",
   "metadata": {},
   "source": [
    "### Load Outputs, Categoircal --> Numerical"
   ]
  },
  {
   "cell_type": "code",
   "execution_count": null,
   "id": "47de5f86-aa7c-4dcf-9a43-7799439120b3",
   "metadata": {
    "tags": []
   },
   "outputs": [],
   "source": [
    "# Outcome Labels\n",
    "dataQuery = f'''\n",
    "/*\n",
    "Description: Patient medications\n",
    "*/\n",
    "\n",
    "SELECT DISTINCT\n",
    "    CASE WHEN a.interventiontype=1 THEN 1\n",
    "      WHEN a.interventiontype=2 THEN 2\n",
    "      WHEN a.interventiontype=3 THEN 2\n",
    "    ELSE 0\n",
    "    END AS interventiontype,\n",
    "    b.*\n",
    "FROM \n",
    "  read_parquet('{PlumsFiles.get_datapath('interventiontype_singlelabel_analysis_parquet')}') as a\n",
    "INNER JOIN df_predictors as b\n",
    "ON a.patientdurablekey = b.patientdurablekey\n",
    "WHERE \n",
    "  a.patientdurablekey IN {tuple(patientdurablekey_list)}\n",
    "        \n",
    "ORDER BY\n",
    "  a.patientdurablekey\n",
    "'''\n",
    "\n",
    "# Run query and update relevant keys\n",
    "results_df_pd = PlumsExtractor.run_query(dataQuery,runtime_flag=True,df_type='pandas')\n",
    "\n",
    "#Check whether query makes sense\n",
    "if check_query_flag==True:\n",
    "    PlumsExtractor.col_to_list(results_df_pd, 'patientdurablekey')\n",
    "    print(results_df_pd.value_counts('interventiontype'))\n",
    "    \n",
    "results_df_pd.head()"
   ]
  },
  {
   "cell_type": "markdown",
   "id": "5479f55e",
   "metadata": {},
   "source": [
    "### Summarize Data Distributions"
   ]
  },
  {
   "cell_type": "code",
   "execution_count": null,
   "id": "ae36653d-62f5-463f-9c64-00042c62b78e",
   "metadata": {
    "tags": []
   },
   "outputs": [],
   "source": [
    "# Data summary\n",
    "df_data = results_df_pd.set_index('patientdurablekey').dropna()\n",
    "\n",
    "save_path = PlumsFiles.get_datapath('model_output_dir').replace('MODEL','classification_1class_meds').replace('INDEPENDENT_VAR','master_numerical_data_for_analysis_revision1.csv') \n",
    "df_data.to_csv(save_path,index=True)\n",
    "\n",
    "continuous = ['ageatfirstimaging', 'yearatfirstimaging']\n",
    "df_summary = TableOne(df_data, \n",
    "                      groupby='interventiontype', \n",
    "                      categorical=[x for x in df_data.columns if x not in continuous],\n",
    "                      continuous=continuous,\n",
    "                      pval=True)\n",
    "df_summary"
   ]
  },
  {
   "cell_type": "code",
   "execution_count": null,
   "id": "05007ae4",
   "metadata": {},
   "outputs": [],
   "source": [
    "print(df_summary)"
   ]
  },
  {
   "cell_type": "code",
   "execution_count": null,
   "id": "cf4010e6-a86a-4377-9efb-f8101f3d77b8",
   "metadata": {
    "tags": []
   },
   "outputs": [],
   "source": [
    "df_data.info()"
   ]
  },
  {
   "cell_type": "code",
   "execution_count": null,
   "id": "0b079243-2a97-48fa-b399-2c0db77ade49",
   "metadata": {
    "tags": []
   },
   "outputs": [],
   "source": []
  }
 ],
 "metadata": {
  "kernelspec": {
   "display_name": "py_env_EMR",
   "language": "python",
   "name": "python3"
  },
  "language_info": {
   "codemirror_mode": {
    "name": "ipython",
    "version": 3
   },
   "file_extension": ".py",
   "mimetype": "text/x-python",
   "name": "python",
   "nbconvert_exporter": "python",
   "pygments_lexer": "ipython3",
   "version": "3.11.9"
  }
 },
 "nbformat": 4,
 "nbformat_minor": 5
}
