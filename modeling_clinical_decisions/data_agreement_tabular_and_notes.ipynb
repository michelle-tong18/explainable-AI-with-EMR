{
 "cells": [
  {
   "cell_type": "code",
   "execution_count": null,
   "id": "18fd1e34-99d2-4271-9f6b-9a2fe02c7880",
   "metadata": {
    "tags": []
   },
   "outputs": [],
   "source": [
    "import pandas as pd\n",
    "import numpy as np\n",
    "\n",
    "from sklearn.metrics import cohen_kappa_score\n",
    "\n",
    "import os\n",
    "import pyrootutils\n",
    "root = pyrootutils.setup_root(\n",
    "    search_from=os.path.abspath(''),\n",
    "    indicator=[\".git\"],\n",
    "    pythonpath=True, # add root directory to the PYTHONPATH (helps with imports)\n",
    "    dotenv=True, # load environment variables from .env if exists in root directory\n",
    ")\n",
    "from utils.file_management.config_loader import load_yaml, process_config_values\n",
    "from utils.file_management.file_manager import FileManager\n"
   ]
  },
  {
   "cell_type": "markdown",
   "id": "d0f5b105-8fbc-4a70-ad72-a91ec2f8c439",
   "metadata": {
    "tags": []
   },
   "source": [
    "### Load Clinical Chart and Note Data (Labels encoded as numerical)"
   ]
  },
  {
   "cell_type": "code",
   "execution_count": null,
   "id": "25ccc80a-8b5f-498a-bf19-bc2d5bb405cf",
   "metadata": {},
   "outputs": [],
   "source": [
    "# Load yaml file with dataset information\n",
    "config_path = str(root) + '/config/datasets/cohort03_MriNoninvasive.yaml'\n",
    "config = process_config_values(load_yaml(config_path))\n",
    "\n",
    "# Load paths to data\n",
    "PlumsFiles = FileManager(config.get('file_directory'))\n",
    "\n",
    "# Path to preprocessed data\n",
    "master_data_path         = PlumsFiles.get_datapath('model_output_dir').replace('MODEL','classification_1class_meds').replace('INDEPENDENT_VAR','master_data_for_analysis.csv') \n",
    "master_encoded_data_path = PlumsFiles.get_datapath('model_output_dir').replace('MODEL','classification_1class_meds').replace('INDEPENDENT_VAR','master_numerical_data_for_analysis.csv') \n",
    "\n",
    "# Load data\n",
    "prepped_data_df =  pd.read_csv(master_encoded_data_path)\n",
    "\n",
    "comparison_df = prepped_data_df[['patientdurablekey','discpathology','spinalstenosis','facetjointarthropathy','sacroiliacjoint','scoliosis'\n",
    "                                 'gpt_disc','gpt_scs','gpt_fj','gpt_sij','gpt_curv','gpt_frac','gpt_olisth','gpt_endplate','gpt_lrs','gpt_fs']]\n",
    "comparison_df"
   ]
  },
  {
   "cell_type": "markdown",
   "id": "16fd5daf-8a7b-4245-9004-f507a2c63fe0",
   "metadata": {
    "tags": []
   },
   "source": [
    "### Cohen's kappa"
   ]
  },
  {
   "cell_type": "code",
   "execution_count": null,
   "id": "398f4d62-1b14-4f04-b97b-84945b3127d3",
   "metadata": {
    "tags": []
   },
   "outputs": [],
   "source": [
    "col_pairs = [('disc','discpathology','gpt_disc'),\n",
    "             ('spinalstenosis','spinalstenosis','gpt_scs'),\n",
    "             ('fj','facetjointarthropathy','gpt_fj'),\n",
    "             ('sij','sacroiliacjoint','gpt_sij'),\n",
    "             ('curvature','scoliosis','gpt_curv'),\n",
    "            ]\n",
    "results = []\n",
    "for name, tabular_col, text_col in col_pairs:\n",
    "    y1 = np.clip(comparison_df[tabular_col], 0, 1)\n",
    "    y2 = np.clip(comparison_df[text_col], 0, 1)\n",
    "    #calculate Cohen's Kappa\n",
    "    score = cohen_kappa_score(y1, y2)\n",
    "    results.append({\n",
    "        'variable': name,\n",
    "        'kappa': np.round(score, 3),\n",
    "        'n_tabular': np.sum(y1),\n",
    "        'n_text': np.sum(y2),\n",
    "        'ratio_text2tab': np.round(np.sum(y2)/np.sum(y1),3),\n",
    "        })\n",
    "agreement_df = pd.DataFrame(results)\n",
    "\n",
    "# Save\n",
    "save_path = #TODO '/path_to_your_project/data_source_agreement/cohenkappa_tabular_and_text.csv'\n",
    "agreement_df.to_csv(save_path)\n",
    "\n",
    "agreement_df"
   ]
  },
  {
   "cell_type": "code",
   "execution_count": null,
   "id": "5aaf9fca-5681-43c9-bce8-fa6a1d90ab67",
   "metadata": {},
   "outputs": [],
   "source": []
  }
 ],
 "metadata": {
  "kernelspec": {
   "display_name": "py_env_emr",
   "language": "python",
   "name": "py_env_emr"
  },
  "language_info": {
   "codemirror_mode": {
    "name": "ipython",
    "version": 3
   },
   "file_extension": ".py",
   "mimetype": "text/x-python",
   "name": "python",
   "nbconvert_exporter": "python",
   "pygments_lexer": "ipython3",
   "version": "3.11.9"
  }
 },
 "nbformat": 4,
 "nbformat_minor": 5
}
